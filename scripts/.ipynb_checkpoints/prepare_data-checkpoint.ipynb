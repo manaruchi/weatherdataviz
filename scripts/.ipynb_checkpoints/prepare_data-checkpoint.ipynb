{
 "cells": [
  {
   "cell_type": "markdown",
   "id": "ed2fc55a-50a3-4dfe-a5a6-8dbda93a1481",
   "metadata": {},
   "source": [
    "# Surface Winds"
   ]
  },
  {
   "cell_type": "code",
   "execution_count": 6,
   "id": "c61e2d02-d656-4243-8a81-430e28bef89e",
   "metadata": {},
   "outputs": [
    {
     "data": {
      "application/vnd.jupyter.widget-view+json": {
       "model_id": "7d655ed48b6149b5895f45cd3a35bd8b",
       "version_major": 2,
       "version_minor": 0
      },
      "text/plain": [
       "Generating Hourly Wind JSON:   0%|          | 0/72 [00:00<?, ?it/s]"
      ]
     },
     "metadata": {},
     "output_type": "display_data"
    }
   ],
   "source": [
    "import xarray as xr\n",
    "import numpy as np\n",
    "import json\n",
    "from tqdm import notebook\n",
    "\n",
    "# Load WRF NetCDF file\n",
    "ds = xr.open_dataset(\"/Users/manaruchi/Desktop/WeatherDataViz/raw_data/AFCNWP_WRF_model_output_00UTC.nc\")\n",
    "\n",
    "tlimit = 72 # hourly data for 3 days (24x3)\n",
    "\n",
    "for t in notebook.tqdm(range(tlimit), desc=\"Generating Hourly Wind JSON\"):\n",
    "    \n",
    "    # Extract U10 and V10 (10 m winds)\n",
    "    u10 = ds[\"U10\"].isel(Time=t)\n",
    "    v10 = ds[\"V10\"].isel(Time=t)\n",
    "    lat = ds[\"XLAT\"].isel(Time=t)\n",
    "    lon = ds[\"XLONG\"].isel(Time=t)\n",
    "    time_string = str(ds[\"XTIME\"].isel(Time=t).values)\n",
    "    \n",
    "    # Convert from m/s to knots\n",
    "    u10_knots = u10.values * 1.94384\n",
    "    v10_knots = v10.values * 1.94384\n",
    "    \n",
    "    ny, nx = u10.shape\n",
    "\n",
    "    # Shared header metadata\n",
    "    base_header = {\n",
    "        \"parameterUnit\": \"KT\",\n",
    "        \"parameterCategory\": 2,\n",
    "        \"nx\": nx,\n",
    "        \"ny\": ny,\n",
    "        \"lo1\": float(lon[0, 0]),\n",
    "        \"la1\": float(lat[0, 0]),\n",
    "        \"lo2\": float(lon[-1, -1]),\n",
    "        \"la2\": float(lat[-1, -1]),\n",
    "        \"dx\": float((lon[0, -1] - lon[0, 0]) / (nx - 1)),\n",
    "        \"dy\": float((lat[0, 0] - lat[-1, 0]) / (ny - 1)),\n",
    "        \"refTime\": f'{time_string.split(\"T\")[0]} {time_string.split(\"T\")[1].split(\":\")[0]}:00:00',\n",
    "        \"forecastTime\": 0\n",
    "    }\n",
    "    \n",
    "    # Create two objects: eastward and northward winds\n",
    "    eastward = {\n",
    "        \"header\": {**base_header, \"parameterNumber\": 2, \"parameterNumberName\": \"eastward_wind\"},\n",
    "        \"data\": u10_knots.flatten().tolist()\n",
    "    }\n",
    "    \n",
    "    northward = {\n",
    "        \"header\": {**base_header, \"parameterNumber\": 3, \"parameterNumberName\": \"northward_wind\"},\n",
    "        \"data\": v10_knots.flatten().tolist()\n",
    "    }\n",
    "    \n",
    "    # Combine into one array (expected by Leaflet Velocity)\n",
    "    combined = [eastward, northward]\n",
    "\n",
    "    \n",
    "    \n",
    "    # Write to file\n",
    "    with open(f\"/Users/manaruchi/Desktop/WeatherDataViz/test/data/wind_data/wind_{t}_0.json\", \"w\") as f:\n",
    "        json.dump(combined, f)\n",
    "    \n"
   ]
  },
  {
   "cell_type": "markdown",
   "id": "1d516370-15ba-43b9-9497-e171d42763e5",
   "metadata": {},
   "source": [
    "# Generate Wind File for 300hPa\n",
    "\n",
    "In WRF (Weather Research and Forecasting model) output, the full model pressure at each grid point is not directly stored as a single variable — instead, it's typically split into two parts:\n",
    "\n",
    "✅ The Two Components of Pressure in WRF\n",
    "PB — Base state pressure (Pa)\n",
    "This is the hydrostatic reference pressure field that is constant in time.\n",
    "\n",
    "P — Perturbation pressure (Pa)\n",
    "This is the deviation from the base state due to weather dynamics at each time and grid point.\n",
    "\n",
    "✅ Full Pressure Formula\n",
    "The full pressure at each grid point is:\n",
    "\n",
    "Full Pressure (Pa) = P + PB\n",
    "\n",
    "If you want pressure in hPa, divide by 100:\n",
    "\n",
    "Pressure (hPa) = P + PB / 100\n",
    "\n",
    "## Calculation Part\n",
    "\n",
    "Lets find out the pressure values at each vertical level. Our model has 32 levels."
   ]
  },
  {
   "cell_type": "code",
   "execution_count": 3,
   "id": "3706a1af-0f4a-4420-822a-b59e730857e7",
   "metadata": {},
   "outputs": [
    {
     "name": "stdout",
     "output_type": "stream",
     "text": [
      "0 925.67596\n",
      "1 919.47375\n",
      "2 911.6386\n",
      "3 901.81964\n",
      "4 889.63293\n",
      "5 874.685\n",
      "6 856.61194\n",
      "7 835.12115\n",
      "8 810.0484\n",
      "9 781.4113\n",
      "10 749.4497\n",
      "11 714.624\n",
      "12 677.5836\n",
      "13 639.00775\n",
      "14 599.2603\n",
      "15 558.45807\n",
      "16 516.7484\n",
      "17 474.3227\n",
      "18 431.42194\n",
      "19 388.34344\n",
      "20 345.44986\n",
      "21 303.16223\n",
      "22 261.95807\n",
      "23 222.5446\n",
      "24 187.03839\n",
      "25 156.94997\n",
      "26 131.70135\n",
      "27 110.51484\n",
      "28 92.73604\n",
      "29 77.81701\n",
      "30 65.29808\n",
      "31 54.793236\n"
     ]
    }
   ],
   "source": [
    "avg_pressure = ((ds[\"P\"] + ds[\"PB\"]) / 100).mean(dim=[\"Time\", \"south_north\", \"west_east\"])\n",
    "\n",
    "for i, v in enumerate(avg_pressure.values):\n",
    "    print(i,v)"
   ]
  },
  {
   "cell_type": "markdown",
   "id": "6292234b-6e6a-45c6-b56f-f51f65a5b674",
   "metadata": {},
   "source": [
    "## Calculate Winds for 300hPa\n",
    "\n",
    "Now level 22 is close to 300hPa. So we can use this level data. Syntax would be:-\n",
    "\n",
    "`u = ds[\"U\"].isel(Time=t, bottom_top=22)`"
   ]
  },
  {
   "cell_type": "code",
   "execution_count": 7,
   "id": "98d68bd8-5af0-4f40-9614-28ac0a8a1e93",
   "metadata": {},
   "outputs": [
    {
     "data": {
      "text/plain": [
       "32"
      ]
     },
     "execution_count": 7,
     "metadata": {},
     "output_type": "execute_result"
    }
   ],
   "source": [
    "len(avg_pressure)"
   ]
  },
  {
   "cell_type": "code",
   "execution_count": 15,
   "id": "a8fc058e-faa6-42fe-bdce-b2fae543624f",
   "metadata": {},
   "outputs": [
    {
     "data": {
      "application/vnd.jupyter.widget-view+json": {
       "model_id": "4af6bc2248b54df2a69a8a7ba17114d3",
       "version_major": 2,
       "version_minor": 0
      },
      "text/plain": [
       "Generating Hourly Wind JSON:   0%|          | 0/72 [00:00<?, ?it/s]"
      ]
     },
     "metadata": {},
     "output_type": "display_data"
    },
    {
     "ename": "SystemExit",
     "evalue": "",
     "output_type": "error",
     "traceback": [
      "An exception has occurred, use %tb to see the full traceback.\n",
      "\u001b[0;31mSystemExit\u001b[0m\n"
     ]
    },
    {
     "name": "stderr",
     "output_type": "stream",
     "text": [
      "/opt/miniconda3/envs/myenv/lib/python3.9/site-packages/IPython/core/interactiveshell.py:3534: UserWarning: To exit: use 'exit', 'quit', or Ctrl-D.\n",
      "  warn(\"To exit: use 'exit', 'quit', or Ctrl-D.\", stacklevel=1)\n"
     ]
    }
   ],
   "source": [
    "import xarray as xr\n",
    "import numpy as np\n",
    "import json\n",
    "from tqdm import notebook\n",
    "\n",
    "# Load WRF NetCDF file\n",
    "ds = xr.open_dataset(\"/Users/manaruchi/Desktop/WeatherDataViz/raw_data/AFCNWP_WRF_model_output_00UTC.nc\")\n",
    "\n",
    "tlimit = 72 # hourly data for 3 days (24x3)\n",
    "\n",
    "for t in notebook.tqdm(range(tlimit), desc=\"Generating Hourly Wind JSON\"):\n",
    "    \n",
    "    # Extract U and V\n",
    "    u = ds[\"U\"].isel(Time=t, bottom_top=22)\n",
    "    v = ds[\"V\"].isel(Time=t, bottom_top=22)\n",
    "    lat = ds[\"XLAT\"].isel(Time=t)\n",
    "    lon = ds[\"XLONG\"].isel(Time=t)\n",
    "    time_string = str(ds[\"XTIME\"].isel(Time=t).values)\n",
    "    \n",
    "    # Convert from m/s to knots\n",
    "    u_knots = u.values * 1.94384\n",
    "    v_knots = v.values * 1.94384\n",
    "    \n",
    "    ny, nx = u.shape\n",
    "\n",
    "    # Shared header metadata\n",
    "    base_header = {\n",
    "        \"parameterUnit\": \"KT\",\n",
    "        \"parameterCategory\": 2,\n",
    "        \"nx\": nx,\n",
    "        \"ny\": ny,\n",
    "        \"lo1\": float(lon[0, 0]),\n",
    "        \"la1\": float(lat[0, 0]),\n",
    "        \"lo2\": float(lon[-1, -1]),\n",
    "        \"la2\": float(lat[-1, -1]),\n",
    "        \"dx\": float((lon[0, -1] - lon[0, 0]) / (nx - 1)),\n",
    "        \"dy\": float((lat[0, 0] - lat[-1, 0]) / (ny - 1)),\n",
    "        \"refTime\": f'{time_string.split(\"T\")[0]} {time_string.split(\"T\")[1].split(\":\")[0]}:00:00',\n",
    "        \"forecastTime\": 0\n",
    "    }\n",
    "    \n",
    "    # Create two objects: eastward and northward winds\n",
    "    eastward = {\n",
    "        \"header\": {**base_header, \"parameterNumber\": 2, \"parameterNumberName\": \"eastward_wind\"},\n",
    "        \"data\": u_knots.flatten().tolist()\n",
    "    }\n",
    "    \n",
    "    northward = {\n",
    "        \"header\": {**base_header, \"parameterNumber\": 3, \"parameterNumberName\": \"northward_wind\"},\n",
    "        \"data\": v_knots.flatten().tolist()\n",
    "    }\n",
    "    \n",
    "    # Combine into one array (expected by Leaflet Velocity)\n",
    "    combined = [eastward, northward]\n",
    "\n",
    "    \n",
    "    \n",
    "    # Write to file\n",
    "    with open(f\"/Users/manaruchi/Desktop/WeatherDataViz/test/data/wind_data/wind_test.json\", \"w\") as f:\n",
    "        json.dump(combined, f)\n",
    "\n",
    "    import sys\n",
    "    sys.exit()\n",
    "    \n"
   ]
  },
  {
   "cell_type": "markdown",
   "id": "4c0a8af9-a815-40a5-9212-1baa73e57c91",
   "metadata": {},
   "source": [
    "# Full Wind Data Extraction Code"
   ]
  },
  {
   "cell_type": "code",
   "execution_count": 5,
   "id": "fac91b76-2a4a-4b9d-a165-f23343dcbfd6",
   "metadata": {},
   "outputs": [
    {
     "data": {
      "application/vnd.jupyter.widget-view+json": {
       "model_id": "b22aac9df201420686e5fc1f86a74bd5",
       "version_major": 2,
       "version_minor": 0
      },
      "text/plain": [
       "Generating Hourly Wind JSON. Level: 1:   0%|          | 0/72 [00:00<?, ?it/s]"
      ]
     },
     "metadata": {},
     "output_type": "display_data"
    },
    {
     "data": {
      "application/vnd.jupyter.widget-view+json": {
       "model_id": "0771f71ba8904601a1df98797466e183",
       "version_major": 2,
       "version_minor": 0
      },
      "text/plain": [
       "Generating Hourly Wind JSON. Level: 2:   0%|          | 0/72 [00:00<?, ?it/s]"
      ]
     },
     "metadata": {},
     "output_type": "display_data"
    },
    {
     "data": {
      "application/vnd.jupyter.widget-view+json": {
       "model_id": "bf9586b023bf4e4381a3ee0930978a3f",
       "version_major": 2,
       "version_minor": 0
      },
      "text/plain": [
       "Generating Hourly Wind JSON. Level: 3:   0%|          | 0/72 [00:00<?, ?it/s]"
      ]
     },
     "metadata": {},
     "output_type": "display_data"
    },
    {
     "data": {
      "application/vnd.jupyter.widget-view+json": {
       "model_id": "43d1809f46f447d78e5a52d8be10ac28",
       "version_major": 2,
       "version_minor": 0
      },
      "text/plain": [
       "Generating Hourly Wind JSON. Level: 4:   0%|          | 0/72 [00:00<?, ?it/s]"
      ]
     },
     "metadata": {},
     "output_type": "display_data"
    },
    {
     "data": {
      "application/vnd.jupyter.widget-view+json": {
       "model_id": "e86a5f4f34e848edb54187bc84b178b4",
       "version_major": 2,
       "version_minor": 0
      },
      "text/plain": [
       "Generating Hourly Wind JSON. Level: 5:   0%|          | 0/72 [00:00<?, ?it/s]"
      ]
     },
     "metadata": {},
     "output_type": "display_data"
    },
    {
     "data": {
      "application/vnd.jupyter.widget-view+json": {
       "model_id": "a94d2a0dbdc0428a856cc693a616d2a8",
       "version_major": 2,
       "version_minor": 0
      },
      "text/plain": [
       "Generating Hourly Wind JSON. Level: 6:   0%|          | 0/72 [00:00<?, ?it/s]"
      ]
     },
     "metadata": {},
     "output_type": "display_data"
    },
    {
     "data": {
      "application/vnd.jupyter.widget-view+json": {
       "model_id": "178b0d5985d64b6297c69dab8d7abdf0",
       "version_major": 2,
       "version_minor": 0
      },
      "text/plain": [
       "Generating Hourly Wind JSON. Level: 7:   0%|          | 0/72 [00:00<?, ?it/s]"
      ]
     },
     "metadata": {},
     "output_type": "display_data"
    },
    {
     "data": {
      "application/vnd.jupyter.widget-view+json": {
       "model_id": "89f84fac5d714342a6677c52b9e3496b",
       "version_major": 2,
       "version_minor": 0
      },
      "text/plain": [
       "Generating Hourly Wind JSON. Level: 8:   0%|          | 0/72 [00:00<?, ?it/s]"
      ]
     },
     "metadata": {},
     "output_type": "display_data"
    },
    {
     "data": {
      "application/vnd.jupyter.widget-view+json": {
       "model_id": "44b6ff309b594feca99448c5c4b6047c",
       "version_major": 2,
       "version_minor": 0
      },
      "text/plain": [
       "Generating Hourly Wind JSON. Level: 9:   0%|          | 0/72 [00:00<?, ?it/s]"
      ]
     },
     "metadata": {},
     "output_type": "display_data"
    }
   ],
   "source": [
    "import xarray as xr\n",
    "import numpy as np\n",
    "import json\n",
    "from tqdm import notebook\n",
    "\n",
    "# Load WRF NetCDF file\n",
    "ds = xr.open_dataset(\"/Users/manaruchi/Desktop/WeatherDataViz/raw_data/AFCNWP_WRF_model_output_00UTC.nc\")\n",
    "\n",
    "tlimit = 72 # hourly data for 3 days (24x3)\n",
    "\n",
    "levels = [0,6,11,14,16,21,24,28,31] # Levels in concurrence with bottom_top values\n",
    "\n",
    "for i,level in enumerate(levels):\n",
    "    for t in notebook.tqdm(range(tlimit), desc=f\"Generating Hourly Wind JSON. Level: {i+1}\"):\n",
    "        \n",
    "        # Extract U and V\n",
    "        u = ds[\"U\"].isel(Time=t, bottom_top=level)\n",
    "        v = ds[\"V\"].isel(Time=t, bottom_top=level)\n",
    "        lat = ds[\"XLAT\"].isel(Time=t)\n",
    "        lon = ds[\"XLONG\"].isel(Time=t)\n",
    "        time_string = str(ds[\"XTIME\"].isel(Time=t).values)\n",
    "        \n",
    "        # Convert from m/s to knots\n",
    "        u_knots = u.values * 1.94384\n",
    "        v_knots = v.values * 1.94384\n",
    "        \n",
    "        ny, nx = u.shape\n",
    "    \n",
    "        # Shared header metadata\n",
    "        base_header = {\n",
    "            \"parameterUnit\": \"KT\",\n",
    "            \"parameterCategory\": 2,\n",
    "            \"nx\": nx,\n",
    "            \"ny\": ny,\n",
    "            \"lo1\": float(lon[0, 0]),\n",
    "            \"la1\": float(lat[0, 0]),\n",
    "            \"lo2\": float(lon[-1, -1]),\n",
    "            \"la2\": float(lat[-1, -1]),\n",
    "            \"dx\": float((lon[0, -1] - lon[0, 0]) / (nx - 1)),\n",
    "            \"dy\": float((lat[0, 0] - lat[-1, 0]) / (ny - 1)),\n",
    "            \"refTime\": f'{time_string.split(\"T\")[0]} {time_string.split(\"T\")[1].split(\":\")[0]}:00:00',\n",
    "            \"forecastTime\": 0\n",
    "        }\n",
    "        \n",
    "        # Create two objects: eastward and northward winds\n",
    "        eastward = {\n",
    "            \"header\": {**base_header, \"parameterNumber\": 2, \"parameterNumberName\": \"eastward_wind\"},\n",
    "            \"data\": u_knots.flatten().tolist()\n",
    "        }\n",
    "        \n",
    "        northward = {\n",
    "            \"header\": {**base_header, \"parameterNumber\": 3, \"parameterNumberName\": \"northward_wind\"},\n",
    "            \"data\": v_knots.flatten().tolist()\n",
    "        }\n",
    "        \n",
    "        # Combine into one array (expected by Leaflet Velocity)\n",
    "        combined = [eastward, northward]\n",
    "    \n",
    "        \n",
    "        \n",
    "        # Write to file\n",
    "        with open(f\"/Users/manaruchi/Desktop/WeatherDataViz/test/data/wind_data/wind_{t}_{i+1}.json\", \"w\") as f:\n",
    "            json.dump(combined, f)"
   ]
  },
  {
   "cell_type": "code",
   "execution_count": null,
   "id": "b34ab382-c624-4545-b262-0a19477a904e",
   "metadata": {},
   "outputs": [],
   "source": []
  }
 ],
 "metadata": {
  "kernelspec": {
   "display_name": "Python 3 (ipykernel)",
   "language": "python",
   "name": "python3"
  },
  "language_info": {
   "codemirror_mode": {
    "name": "ipython",
    "version": 3
   },
   "file_extension": ".py",
   "mimetype": "text/x-python",
   "name": "python",
   "nbconvert_exporter": "python",
   "pygments_lexer": "ipython3",
   "version": "3.9.21"
  }
 },
 "nbformat": 4,
 "nbformat_minor": 5
}
