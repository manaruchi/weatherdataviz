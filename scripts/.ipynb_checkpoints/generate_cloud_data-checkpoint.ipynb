{
 "cells": [
  {
   "cell_type": "markdown",
   "id": "72d834da-fa7d-45ae-b46e-11c966f96fc4",
   "metadata": {},
   "source": [
    "# Generating Image Overlays of Wx Variables\n",
    "\n",
    "First obtain the maximum and minimum values of Latitude and Longitude so that the image can be placed in Leaflet."
   ]
  },
  {
   "cell_type": "code",
   "execution_count": 13,
   "id": "86fb76f2-ac95-4870-ac76-ae2453b78591",
   "metadata": {},
   "outputs": [
    {
     "name": "stdout",
     "output_type": "stream",
     "text": [
      "Image bounds: SW=(-3.236724853515625, 44.73521041870117), NE=(43.468475341796875, 111.26478576660156)\n"
     ]
    }
   ],
   "source": [
    "lat_min = float(lats.min())\n",
    "lat_max = float(lats.max())\n",
    "lon_min = float(lons.min())\n",
    "lon_max = float(lons.max())\n",
    "\n",
    "print(f\"Image bounds: SW=({lat_min}, {lon_min}), NE=({lat_max}, {lon_max})\")\n"
   ]
  },
  {
   "cell_type": "code",
   "execution_count": null,
   "id": "075a68df-4475-4e44-8151-e6cc8b279193",
   "metadata": {},
   "outputs": [],
   "source": []
  },
  {
   "cell_type": "markdown",
   "id": "f01d979c-3ca4-4df5-af37-b196869d9d48",
   "metadata": {},
   "source": [
    "Lets generate the images.\n",
    "\n",
    "## Rainfall"
   ]
  },
  {
   "cell_type": "code",
   "execution_count": 39,
   "id": "9c7c8b12-d250-41f3-9599-3d132fbc52e3",
   "metadata": {},
   "outputs": [
    {
     "data": {
      "application/vnd.jupyter.widget-view+json": {
       "model_id": "10e11b7bb65c422388d3589f2e6303ac",
       "version_major": 2,
       "version_minor": 0
      },
      "text/plain": [
       "Generating Hourly Rainfall Images..:   0%|          | 0/71 [00:00<?, ?it/s]"
      ]
     },
     "metadata": {},
     "output_type": "display_data"
    }
   ],
   "source": [
    "import xarray as xr\n",
    "import numpy as np\n",
    "import matplotlib.pyplot as plt\n",
    "import cartopy.crs as ccrs\n",
    "from matplotlib.colors import LinearSegmentedColormap\n",
    "from scipy.ndimage import gaussian_filter\n",
    "from tqdm import notebook\n",
    "\n",
    "\n",
    "# Load WRF data and Calculate Wind Speed\n",
    "ds = xr.open_dataset(\"/Users/manaruchi/Desktop/WeatherDataViz/raw_data/AFCNWP_WRF_model_output_00UTC.nc\")\n",
    "\n",
    "# Generate hourly images for 3 days\n",
    "tlimit = 71\n",
    "\n",
    "for t in notebook.tqdm(range(tlimit), desc=\"Generating Hourly Rainfall Images..\"):\n",
    "    rainc1 = ds[\"RAINC\"].isel(Time=t)\n",
    "    rainc2 = ds[\"RAINC\"].isel(Time=t+1)\n",
    "    rainnc1 = ds[\"RAINNC\"].isel(Time=t)\n",
    "    rainnc2 = ds[\"RAINNC\"].isel(Time=t+1)\n",
    "    lats = ds[\"XLAT\"].isel(Time=t).values\n",
    "    lons = ds[\"XLONG\"].isel(Time=t).values\n",
    "    \n",
    "    rain_actual = (rainc2 - rainc1) + (rainnc2 - rainnc1)\n",
    "    \n",
    "    # Smooth Temperature with Gaussian filter (sigma controls smoothness)\n",
    "    rain_smooth = gaussian_filter(rain_actual, sigma=1)\n",
    "    \n",
    "    # For rainfall, using green as color\n",
    "    greens = [\n",
    "      \"#464444\", # Dark\n",
    "      \"#f7fbff\",  # Very light blue (almost white)\n",
    "      \"#deebf7\",  # Pale blue\n",
    "      \"#c6dbef\",  # Soft blue\n",
    "      \"#9ecae1\",  # Sky blue\n",
    "      \"#6baed6\",  # Medium light blue\n",
    "      \"#4292c6\",  # Medium blue\n",
    "      \"#2171b5\",  # Deep sky blue\n",
    "      \"#08519c\",  # Strong blue\n",
    "      \"#08306b\",  # Dark navy blue\n",
    "      \"#041f4a\",  # Very dark blue\n",
    "      \"#021025\",   # Near-black blue\n",
    "      \"#fddbc7\",  # Light Pink\n",
    "      \"#f4a582\",  # Peach\n",
    "      \"#d6604d\",  # Light Red\n",
    "      \"#b2182b\",  # Red\n",
    "      \"#67001f\"   # Dark Red\n",
    "    ]\n",
    "    \n",
    "    \n",
    "    rain_cmap = LinearSegmentedColormap.from_list(\"windy\", greens)\n",
    "    # rain_cmap.set_bad(color='none')\n",
    "    \n",
    "    # Mask 0s\n",
    "    # rain_smooth = np.ma.masked_where(rain_smooth < 0.1, rain_smooth)\n",
    "    \n",
    "    # Plot\n",
    "    fig = plt.figure(figsize=(20, 16))\n",
    "    ax = plt.axes(projection=ccrs.PlateCarree())\n",
    "    \n",
    "    ax.axis(\"off\")\n",
    "    ax.set_frame_on(False)\n",
    "    fig.patch.set_alpha(0.0)\n",
    "    \n",
    "    # Compute image extent for imshow: [left, right, bottom, top]\n",
    "    extent = [lons.min(), lons.max(), lats.min(), lats.max()]\n",
    "    \n",
    "    # Use imshow with interpolation for smooth result\n",
    "    img = ax.imshow(\n",
    "        rain_smooth,\n",
    "        origin='lower',\n",
    "        extent=extent,\n",
    "        cmap=rain_cmap,\n",
    "        vmin=0,\n",
    "        vmax=30,\n",
    "        interpolation='bilinear',   # 'bilinear' or 'bicubic' for smoothness\n",
    "        alpha=0.8\n",
    "    )\n",
    "    \n",
    "    ax.set_extent(extent, crs=ccrs.PlateCarree())\n",
    "    \n",
    "    plt.savefig(\n",
    "        f\"rainfall_{t}_0.png\",\n",
    "        dpi=300,\n",
    "        bbox_inches='tight',\n",
    "        pad_inches=0,\n",
    "        transparent=True\n",
    "    )\n",
    "    plt.close()"
   ]
  },
  {
   "cell_type": "code",
   "execution_count": null,
   "id": "5448c241-4b28-406e-9bf7-c9bf237eaa18",
   "metadata": {},
   "outputs": [],
   "source": []
  }
 ],
 "metadata": {
  "kernelspec": {
   "display_name": "Python 3 (ipykernel)",
   "language": "python",
   "name": "python3"
  },
  "language_info": {
   "codemirror_mode": {
    "name": "ipython",
    "version": 3
   },
   "file_extension": ".py",
   "mimetype": "text/x-python",
   "name": "python",
   "nbconvert_exporter": "python",
   "pygments_lexer": "ipython3",
   "version": "3.9.21"
  }
 },
 "nbformat": 4,
 "nbformat_minor": 5
}
