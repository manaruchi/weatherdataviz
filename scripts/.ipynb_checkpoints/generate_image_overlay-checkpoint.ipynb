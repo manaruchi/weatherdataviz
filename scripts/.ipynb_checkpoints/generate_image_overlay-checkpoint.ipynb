{
 "cells": [
  {
   "cell_type": "markdown",
   "id": "72d834da-fa7d-45ae-b46e-11c966f96fc4",
   "metadata": {},
   "source": [
    "# Generating Image Overlays of Wx Variables\n",
    "\n",
    "First obtain the maximum and minimum values of Latitude and Longitude so that the image can be placed in Leaflet."
   ]
  },
  {
   "cell_type": "code",
   "execution_count": 13,
   "id": "86fb76f2-ac95-4870-ac76-ae2453b78591",
   "metadata": {},
   "outputs": [
    {
     "name": "stdout",
     "output_type": "stream",
     "text": [
      "Image bounds: SW=(-3.236724853515625, 44.73521041870117), NE=(43.468475341796875, 111.26478576660156)\n"
     ]
    }
   ],
   "source": [
    "lat_min = float(lats.min())\n",
    "lat_max = float(lats.max())\n",
    "lon_min = float(lons.min())\n",
    "lon_max = float(lons.max())\n",
    "\n",
    "print(f\"Image bounds: SW=({lat_min}, {lon_min}), NE=({lat_max}, {lon_max})\")\n"
   ]
  },
  {
   "cell_type": "markdown",
   "id": "f01d979c-3ca4-4df5-af37-b196869d9d48",
   "metadata": {},
   "source": [
    "Lets generate the images.\n",
    "\n",
    "## Surface Winds"
   ]
  },
  {
   "cell_type": "code",
   "execution_count": 14,
   "id": "f4df302d-5cd7-4c3a-8232-1c45d2acef8e",
   "metadata": {},
   "outputs": [
    {
     "data": {
      "application/vnd.jupyter.widget-view+json": {
       "model_id": "55bf4a3814fd4a2fba23936ce17d4ec5",
       "version_major": 2,
       "version_minor": 0
      },
      "text/plain": [
       "Generating Hourly Surface Wind Speed Images..:   0%|          | 0/72 [00:00<?, ?it/s]"
      ]
     },
     "metadata": {},
     "output_type": "display_data"
    }
   ],
   "source": [
    "import xarray as xr\n",
    "import numpy as np\n",
    "import matplotlib.pyplot as plt\n",
    "import cartopy.crs as ccrs\n",
    "from matplotlib.colors import LinearSegmentedColormap\n",
    "from scipy.ndimage import gaussian_filter\n",
    "from tqdm import notebook\n",
    "\n",
    "\n",
    "# Load WRF data and Calculate Wind Speed\n",
    "ds = xr.open_dataset(\"/Users/manaruchi/Desktop/WeatherDataViz/raw_data/AFCNWP_WRF_model_output_00UTC.nc\")\n",
    "u = ds[\"U10\"]\n",
    "v = ds[\"V10\"]\n",
    "wind_speed = np.sqrt(u**2 + v**2) * 1.94384 # Wind Speed in Knots\n",
    "\n",
    "\n",
    "# Generate hourly images for 3 days\n",
    "tlimit = 72\n",
    "\n",
    "for t in notebook.tqdm(range(tlimit), desc=\"Generating Hourly Surface Wind Speed Images..\"):\n",
    "\n",
    "    ws = wind_speed.isel(Time=t).values\n",
    "    lats = ds[\"XLAT\"].isel(Time=t).values\n",
    "    lons = ds[\"XLONG\"].isel(Time=t).values\n",
    "    \n",
    "    # Smooth wind speed with Gaussian filter (sigma controls smoothness)\n",
    "    ws_smooth = gaussian_filter(ws, sigma=1)\n",
    "    \n",
    "    # Windy color scale definition\n",
    "    windy_colors = [\n",
    "        \"#0077FF\",  # Blue\n",
    "        \"#00FFFD\",  # Cyan\n",
    "        \"#4EFF3C\",  # Green\n",
    "        \"#FFFF00\",  # Yellow\n",
    "        \"#FFB600\",  # Orange\n",
    "        \"#FF3E00\",  # Red\n",
    "        \"#990000\",  # Dark Red\n",
    "    ]\n",
    "    \n",
    "    windy_cmap = LinearSegmentedColormap.from_list(\"windy\", windy_colors)\n",
    "    \n",
    "    # Plot\n",
    "    fig = plt.figure(figsize=(20, 16))\n",
    "    ax = plt.axes(projection=ccrs.PlateCarree())\n",
    "    \n",
    "    ax.axis(\"off\")\n",
    "    ax.set_frame_on(False)\n",
    "    fig.patch.set_alpha(0.0)\n",
    "    \n",
    "    # Compute image extent for imshow: [left, right, bottom, top]\n",
    "    extent = [lons.min(), lons.max(), lats.min(), lats.max()]\n",
    "    \n",
    "    # Use imshow with interpolation for smooth result\n",
    "    img = ax.imshow(\n",
    "        ws_smooth,\n",
    "        origin='lower',\n",
    "        extent=extent,\n",
    "        cmap=windy_cmap,\n",
    "        vmin=0,\n",
    "        vmax=50,\n",
    "        interpolation='bilinear',   # 'bilinear' or 'bicubic' for smoothness\n",
    "        alpha=0.8\n",
    "    )\n",
    "    \n",
    "    ax.set_extent(extent, crs=ccrs.PlateCarree())\n",
    "    \n",
    "    plt.savefig(\n",
    "        f\"wind_speed_{t}_0.png\",\n",
    "        dpi=300,\n",
    "        bbox_inches='tight',\n",
    "        pad_inches=0,\n",
    "        transparent=True\n",
    "    )\n",
    "    plt.close()"
   ]
  },
  {
   "cell_type": "markdown",
   "id": "324810c6-a405-4d83-85e2-e013601ea583",
   "metadata": {},
   "source": [
    "## Generate Upper Air Winds"
   ]
  },
  {
   "cell_type": "code",
   "execution_count": 13,
   "id": "7bbe4861-87be-4c1f-a77c-b73d5815aec6",
   "metadata": {},
   "outputs": [
    {
     "name": "stdout",
     "output_type": "stream",
     "text": [
      "Dataset Loaded...\n"
     ]
    },
    {
     "data": {
      "application/vnd.jupyter.widget-view+json": {
       "model_id": "843d1315436744c286e16f76843309e7",
       "version_major": 2,
       "version_minor": 0
      },
      "text/plain": [
       "Generating Hourly Wind JSON. Level: 1:   0%|          | 0/72 [00:00<?, ?it/s]"
      ]
     },
     "metadata": {},
     "output_type": "display_data"
    },
    {
     "data": {
      "application/vnd.jupyter.widget-view+json": {
       "model_id": "be4331f5138845f6a7ddf224f90908ff",
       "version_major": 2,
       "version_minor": 0
      },
      "text/plain": [
       "Generating Hourly Wind JSON. Level: 2:   0%|          | 0/72 [00:00<?, ?it/s]"
      ]
     },
     "metadata": {},
     "output_type": "display_data"
    },
    {
     "data": {
      "application/vnd.jupyter.widget-view+json": {
       "model_id": "b66e8abfc2b54c06a0bf6df81f3fe838",
       "version_major": 2,
       "version_minor": 0
      },
      "text/plain": [
       "Generating Hourly Wind JSON. Level: 3:   0%|          | 0/72 [00:00<?, ?it/s]"
      ]
     },
     "metadata": {},
     "output_type": "display_data"
    },
    {
     "data": {
      "application/vnd.jupyter.widget-view+json": {
       "model_id": "9f5c9b6948a84e56b7c17878ebb301b4",
       "version_major": 2,
       "version_minor": 0
      },
      "text/plain": [
       "Generating Hourly Wind JSON. Level: 4:   0%|          | 0/72 [00:00<?, ?it/s]"
      ]
     },
     "metadata": {},
     "output_type": "display_data"
    },
    {
     "data": {
      "application/vnd.jupyter.widget-view+json": {
       "model_id": "377b415c7b3c40c7b6d106106110026e",
       "version_major": 2,
       "version_minor": 0
      },
      "text/plain": [
       "Generating Hourly Wind JSON. Level: 5:   0%|          | 0/72 [00:00<?, ?it/s]"
      ]
     },
     "metadata": {},
     "output_type": "display_data"
    },
    {
     "data": {
      "application/vnd.jupyter.widget-view+json": {
       "model_id": "6c199ab64b7a45e2adbf222db40dee83",
       "version_major": 2,
       "version_minor": 0
      },
      "text/plain": [
       "Generating Hourly Wind JSON. Level: 6:   0%|          | 0/72 [00:00<?, ?it/s]"
      ]
     },
     "metadata": {},
     "output_type": "display_data"
    },
    {
     "data": {
      "application/vnd.jupyter.widget-view+json": {
       "model_id": "26fd913cda114900a555ba1d09edac52",
       "version_major": 2,
       "version_minor": 0
      },
      "text/plain": [
       "Generating Hourly Wind JSON. Level: 7:   0%|          | 0/72 [00:00<?, ?it/s]"
      ]
     },
     "metadata": {},
     "output_type": "display_data"
    },
    {
     "data": {
      "application/vnd.jupyter.widget-view+json": {
       "model_id": "195c86a459d84b6ba5c36f2fcd01150c",
       "version_major": 2,
       "version_minor": 0
      },
      "text/plain": [
       "Generating Hourly Wind JSON. Level: 8:   0%|          | 0/72 [00:00<?, ?it/s]"
      ]
     },
     "metadata": {},
     "output_type": "display_data"
    },
    {
     "data": {
      "application/vnd.jupyter.widget-view+json": {
       "model_id": "007952b3518948cba36aaaa6a09657eb",
       "version_major": 2,
       "version_minor": 0
      },
      "text/plain": [
       "Generating Hourly Wind JSON. Level: 9:   0%|          | 0/72 [00:00<?, ?it/s]"
      ]
     },
     "metadata": {},
     "output_type": "display_data"
    }
   ],
   "source": [
    "import xarray as xr\n",
    "import numpy as np\n",
    "import matplotlib.pyplot as plt\n",
    "import cartopy.crs as ccrs\n",
    "from matplotlib.colors import LinearSegmentedColormap\n",
    "from scipy.ndimage import gaussian_filter\n",
    "from tqdm import notebook\n",
    "\n",
    "# Load WRF NetCDF file\n",
    "ds = xr.open_dataset(\"/Users/manaruchi/Desktop/WeatherDataViz/raw_data/AFCNWP_WRF_model_output_00UTC.nc\")\n",
    "print(\"Dataset Loaded...\")\n",
    "tlimit = 72 # hourly data for 3 days (24x3)\n",
    "\n",
    "levels = [0,6,11,14,16,21,24,28,31] # Levels in concurrence with bottom_top values\n",
    "\n",
    "\n",
    "for i,level in enumerate(levels):\n",
    "    for t in notebook.tqdm(range(tlimit), desc=f\"Generating Hourly Wind JSON. Level: {i+1}\"):\n",
    "        u = ds[\"U\"].isel(Time=t, bottom_top=level)\n",
    "        v = ds[\"V\"].isel(Time=t, bottom_top=level)\n",
    "        lats = ds[\"XLAT\"].isel(Time=t).values\n",
    "        lons = ds[\"XLONG\"].isel(Time=t).values\n",
    "    \n",
    "        # Unstagger the Wind Data\n",
    "        u_unstaggered = 0.5 * (u[:, :-1] + u[:, 1:])   # average in x-direction\n",
    "        v_unstaggered = 0.5 * (v[:-1, :] + v[1:, :])   # average in y-direction\n",
    "\n",
    "        u_arr = u_unstaggered.values * u_unstaggered.values\n",
    "        v_arr = v_unstaggered.values * v_unstaggered.values\n",
    "        final_arr = u_arr + v_arr\n",
    "        final_arr = final_arr ** 0.5\n",
    "        ws = final_arr * 1.94384\n",
    "        # Smooth wind speed with Gaussian filter (sigma controls smoothness)\n",
    "        ws_smooth = gaussian_filter(ws, sigma=1)\n",
    "        \n",
    "        # Windy color scale definition\n",
    "        windy_colors = [\n",
    "            \"#0077FF\",  # Blue\n",
    "            \"#00FFFD\",  # Cyan\n",
    "            \"#4EFF3C\",  # Green\n",
    "            \"#FFFF00\",  # Yellow\n",
    "            \"#FFB600\",  # Orange\n",
    "            \"#FF3E00\",  # Red\n",
    "            \"#990000\",  # Dark Red\n",
    "            \"#800080\",  # Purple\n",
    "        ]\n",
    "        \n",
    "        windy_cmap = LinearSegmentedColormap.from_list(\"windy\", windy_colors)\n",
    "        \n",
    "        # Plot\n",
    "        fig = plt.figure(figsize=(20, 16))\n",
    "        ax = plt.axes(projection=ccrs.PlateCarree())\n",
    "        \n",
    "        ax.axis(\"off\")\n",
    "        ax.set_frame_on(False)\n",
    "        fig.patch.set_alpha(0.0)\n",
    "        \n",
    "        # Compute image extent for imshow: [left, right, bottom, top]\n",
    "        extent = [lons.min(), lons.max(), lats.min(), lats.max()]\n",
    "        \n",
    "        # Use imshow with interpolation for smooth result\n",
    "        img = ax.imshow(\n",
    "            ws_smooth,\n",
    "            origin='lower',\n",
    "            extent=extent,\n",
    "            cmap=windy_cmap,\n",
    "            vmin=0,\n",
    "            vmax=50,\n",
    "            interpolation='bilinear',   # 'bilinear' or 'bicubic' for smoothness\n",
    "            alpha=0.8\n",
    "        )\n",
    "        \n",
    "        ax.set_extent(extent, crs=ccrs.PlateCarree())\n",
    "        \n",
    "        plt.savefig(\n",
    "            f\"wind_speed_{t}_{i+1}.png\",\n",
    "            dpi=300,\n",
    "            bbox_inches='tight',\n",
    "            pad_inches=0,\n",
    "            transparent=True\n",
    "        )\n",
    "        plt.close()"
   ]
  },
  {
   "cell_type": "code",
   "execution_count": null,
   "id": "d54680c6-d22f-4fdb-b034-05d8b8e55ae3",
   "metadata": {},
   "outputs": [],
   "source": []
  }
 ],
 "metadata": {
  "kernelspec": {
   "display_name": "Python 3 (ipykernel)",
   "language": "python",
   "name": "python3"
  },
  "language_info": {
   "codemirror_mode": {
    "name": "ipython",
    "version": 3
   },
   "file_extension": ".py",
   "mimetype": "text/x-python",
   "name": "python",
   "nbconvert_exporter": "python",
   "pygments_lexer": "ipython3",
   "version": "3.9.21"
  }
 },
 "nbformat": 4,
 "nbformat_minor": 5
}
