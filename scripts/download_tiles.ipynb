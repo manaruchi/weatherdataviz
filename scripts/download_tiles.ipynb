{
 "cells": [
  {
   "cell_type": "code",
   "execution_count": 10,
   "id": "8a9b97a2-ceb1-4521-95f1-b6de8c8ca6c3",
   "metadata": {},
   "outputs": [
    {
     "data": {
      "application/vnd.jupyter.widget-view+json": {
       "model_id": "55fe4a0c36e64e1f9ebb7397492894f4",
       "version_major": 2,
       "version_minor": 0
      },
      "text/plain": [
       "Zoom 1: x from 1 to 1, y from 0 to 0:   0%|          | 0/1 [00:00<?, ?it/s]"
      ]
     },
     "metadata": {},
     "output_type": "display_data"
    },
    {
     "data": {
      "application/vnd.jupyter.widget-view+json": {
       "model_id": "fa597218268b47f1862023f70d6b3932",
       "version_major": 2,
       "version_minor": 0
      },
      "text/plain": [
       "Zoom 2: x from 2 to 3, y from 1 to 1:   0%|          | 0/2 [00:00<?, ?it/s]"
      ]
     },
     "metadata": {},
     "output_type": "display_data"
    },
    {
     "data": {
      "application/vnd.jupyter.widget-view+json": {
       "model_id": "6126f5ddde534755b3d19c16cfd3a205",
       "version_major": 2,
       "version_minor": 0
      },
      "text/plain": [
       "Zoom 3: x from 5 to 6, y from 2 to 3:   0%|          | 0/2 [00:00<?, ?it/s]"
      ]
     },
     "metadata": {},
     "output_type": "display_data"
    },
    {
     "data": {
      "application/vnd.jupyter.widget-view+json": {
       "model_id": "81d8a4c57a914dc5a943fe476d2c30ce",
       "version_major": 2,
       "version_minor": 0
      },
      "text/plain": [
       "Zoom 4: x from 10 to 12, y from 5 to 7:   0%|          | 0/3 [00:00<?, ?it/s]"
      ]
     },
     "metadata": {},
     "output_type": "display_data"
    },
    {
     "data": {
      "application/vnd.jupyter.widget-view+json": {
       "model_id": "7a4a782e5d1f423495302a2d8ecb49ca",
       "version_major": 2,
       "version_minor": 0
      },
      "text/plain": [
       "Zoom 5: x from 20 to 25, y from 11 to 15:   0%|          | 0/6 [00:00<?, ?it/s]"
      ]
     },
     "metadata": {},
     "output_type": "display_data"
    },
    {
     "data": {
      "application/vnd.jupyter.widget-view+json": {
       "model_id": "f01abc36d7074fc9afd7b11b0fec1041",
       "version_major": 2,
       "version_minor": 0
      },
      "text/plain": [
       "Zoom 6: x from 40 to 51, y from 22 to 31:   0%|          | 0/12 [00:00<?, ?it/s]"
      ]
     },
     "metadata": {},
     "output_type": "display_data"
    },
    {
     "data": {
      "application/vnd.jupyter.widget-view+json": {
       "model_id": "f6f2cd8144924f489963c7d403221d38",
       "version_major": 2,
       "version_minor": 0
      },
      "text/plain": [
       "Zoom 7: x from 80 to 103, y from 44 to 62:   0%|          | 0/24 [00:00<?, ?it/s]"
      ]
     },
     "metadata": {},
     "output_type": "display_data"
    },
    {
     "data": {
      "application/vnd.jupyter.widget-view+json": {
       "model_id": "f7a9534381274c7ba6b2ba4c0850e4f8",
       "version_major": 2,
       "version_minor": 0
      },
      "text/plain": [
       "Zoom 8: x from 160 to 206, y from 88 to 124:   0%|          | 0/47 [00:00<?, ?it/s]"
      ]
     },
     "metadata": {},
     "output_type": "display_data"
    },
    {
     "data": {
      "application/vnd.jupyter.widget-view+json": {
       "model_id": "10a770c94ebb4cf9a64c65cbcc5b281f",
       "version_major": 2,
       "version_minor": 0
      },
      "text/plain": [
       "Zoom 9: x from 320 to 412, y from 177 to 248:   0%|          | 0/93 [00:00<?, ?it/s]"
      ]
     },
     "metadata": {},
     "output_type": "display_data"
    },
    {
     "data": {
      "application/vnd.jupyter.widget-view+json": {
       "model_id": "237b244ffcc2434fa56924a45a80b76f",
       "version_major": 2,
       "version_minor": 0
      },
      "text/plain": [
       "Zoom 10: x from 640 to 824, y from 355 to 497:   0%|          | 0/185 [00:00<?, ?it/s]"
      ]
     },
     "metadata": {},
     "output_type": "display_data"
    },
    {
     "name": "stdout",
     "output_type": "stream",
     "text": [
      "Error fetching https://a.basemaps.cartocdn.com/light_only_labels/10/824/417.png: HTTPSConnectionPool(host='a.basemaps.cartocdn.com', port=443): Max retries exceeded with url: /light_only_labels/10/824/417.png (Caused by ConnectTimeoutError(<urllib3.connection.HTTPSConnection object at 0x112876d20>, 'Connection to a.basemaps.cartocdn.com timed out. (connect timeout=10)'))\n"
     ]
    }
   ],
   "source": [
    "import math\n",
    "import os\n",
    "import requests\n",
    "from time import sleep\n",
    "from tqdm import notebook\n",
    "# Define your bounds\n",
    "lat_min = 5 \n",
    "lat_max = 48\n",
    "lon_min = 45\n",
    "lon_max = 110\n",
    "\n",
    "# Lat Long Combinations\n",
    "\n",
    "\n",
    "# Tile server URL (can be changed)\n",
    "TILE_SERVER = \"https://a.basemaps.cartocdn.com/light_only_labels/{z}/{x}/{y}.png\"\n",
    "\n",
    "# Output folder\n",
    "OUTPUT_DIR = \"tiles\"\n",
    "\n",
    "# Sleep between requests to avoid overwhelming server (adjust as needed)\n",
    "REQUEST_DELAY = 0.2\n",
    "\n",
    "def deg2num(lat_deg, lon_deg, zoom):\n",
    "    \"\"\"Convert lat/lon to tile x/y numbers.\"\"\"\n",
    "    lat_rad = math.radians(lat_deg)\n",
    "    n = 2.0 ** zoom\n",
    "    xtile = int((lon_deg + 180.0) / 360.0 * n)\n",
    "    ytile = int(\n",
    "        (1.0 - math.log(math.tan(lat_rad) + 1.0 / math.cos(lat_rad)) / math.pi)\n",
    "        / 2.0 * n\n",
    "    )\n",
    "    return xtile, ytile\n",
    "\n",
    "# Loop through zoom levels\n",
    "for z in range(1, 11):  # 1 to 7 inclusive\n",
    "    x_min, y_max = deg2num(lat_min, lon_min, z)\n",
    "    x_max, y_min = deg2num(lat_max, lon_max, z)\n",
    "\n",
    "    \n",
    "    for x in notebook.tqdm(range(x_min, x_max + 1), desc = f\"Zoom {z}: x from {x_min} to {x_max}, y from {y_min} to {y_max}\"):\n",
    "        for y in range(y_min, y_max + 1):\n",
    "            url = TILE_SERVER.format(z=z, x=x, y=y)\n",
    "            folder = os.path.join(OUTPUT_DIR, str(z), str(x))\n",
    "            os.makedirs(folder, exist_ok=True)\n",
    "            filepath = os.path.join(folder, f\"{y}.png\")\n",
    "\n",
    "            # Skip if already downloaded\n",
    "            if os.path.exists(filepath):\n",
    "                continue\n",
    "            try:\n",
    "                r = requests.get(url, timeout=10)\n",
    "                if r.status_code == 200:\n",
    "                    with open(filepath, \"wb\") as f:\n",
    "                        f.write(r.content)\n",
    "            except Exception as e:\n",
    "                print(f\"Error fetching {url}: {e}\")\n",
    "            sleep(REQUEST_DELAY)\n"
   ]
  },
  {
   "cell_type": "code",
   "execution_count": 3,
   "id": "3b119a02-610d-44bf-aa9c-b304518a9f08",
   "metadata": {},
   "outputs": [
    {
     "data": {
      "text/plain": [
       "range(85, 107)"
      ]
     },
     "execution_count": 3,
     "metadata": {},
     "output_type": "execute_result"
    }
   ],
   "source": [
    "range(x_min, x_max + 1)"
   ]
  },
  {
   "cell_type": "code",
   "execution_count": null,
   "id": "ea7bb2ec-9183-4456-a607-74441e8a0523",
   "metadata": {},
   "outputs": [],
   "source": []
  }
 ],
 "metadata": {
  "kernelspec": {
   "display_name": "Python 3 (ipykernel)",
   "language": "python",
   "name": "python3"
  },
  "language_info": {
   "codemirror_mode": {
    "name": "ipython",
    "version": 3
   },
   "file_extension": ".py",
   "mimetype": "text/x-python",
   "name": "python",
   "nbconvert_exporter": "python",
   "pygments_lexer": "ipython3",
   "version": "3.12.2"
  }
 },
 "nbformat": 4,
 "nbformat_minor": 5
}
