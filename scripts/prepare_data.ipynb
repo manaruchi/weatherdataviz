{
 "cells": [
  {
   "cell_type": "code",
   "execution_count": 1,
   "id": "92e80a0d-b5da-4d4f-91e2-b90a9b446606",
   "metadata": {},
   "outputs": [
    {
     "name": "stdout",
     "output_type": "stream",
     "text": [
      "✅ wind_velocity.json created without wrf-python.\n"
     ]
    }
   ],
   "source": [
    "import xarray as xr\n",
    "import numpy as np\n",
    "import json\n",
    "\n",
    "# Load WRF NetCDF file\n",
    "ds = xr.open_dataset(\"/Users/manaruchi/Desktop/WeatherDataViz/raw_data/AFCNWP_WRF_model_output_00UTC.nc\")\n",
    "\n",
    "# Direct access to variables\n",
    "u10 = ds[\"U10\"].isel(Time=0)     # shape: (y, x)\n",
    "v10 = ds[\"V10\"].isel(Time=0)\n",
    "lat = ds[\"XLAT\"].isel(Time=0)\n",
    "lon = ds[\"XLONG\"].isel(Time=0)\n",
    "\n",
    "# Prepare leaflet-velocity JSON format\n",
    "ny, nx = u10.shape\n",
    "\n",
    "data = {\n",
    "    \"header\": {\n",
    "        \"parameterUnit\": \"m/s\",\n",
    "        \"parameterNumber\": 2,\n",
    "        \"parameterNumberName\": \"eastward_wind\",\n",
    "        \"parameterCategory\": 2,\n",
    "        \"nx\": nx,\n",
    "        \"ny\": ny,\n",
    "        \"lo1\": float(lon[0, 0]),\n",
    "        \"la1\": float(lat[0, 0]),\n",
    "        \"lo2\": float(lon[-1, -1]),\n",
    "        \"la2\": float(lat[-1, -1]),\n",
    "        \"dx\": float((lon[0, -1] - lon[0, 0]) / (nx - 1)),\n",
    "        \"dy\": float((lat[0, 0] - lat[-1, 0]) / (ny - 1)),\n",
    "        \"refTime\": \"2024-02-19 00:00:00\",\n",
    "        \"forecastTime\": 0\n",
    "    },\n",
    "    \"uComponent\": u10.values.flatten().tolist(),\n",
    "    \"vComponent\": v10.values.flatten().tolist()\n",
    "}\n",
    "\n",
    "# Save to JSON\n",
    "with open(\"wind_velocity.json\", \"w\") as f:\n",
    "    json.dump(data, f)\n",
    "\n",
    "print(\"✅ wind_velocity.json created without wrf-python.\")"
   ]
  },
  {
   "cell_type": "code",
   "execution_count": 6,
   "id": "c61e2d02-d656-4243-8a81-430e28bef89e",
   "metadata": {},
   "outputs": [
    {
     "name": "stdout",
     "output_type": "stream",
     "text": [
      "✅ wind_velocity.json created with both eastward and northward wind components.\n"
     ]
    }
   ],
   "source": [
    "import xarray as xr\n",
    "import numpy as np\n",
    "import json\n",
    "\n",
    "# Load WRF NetCDF file\n",
    "ds = xr.open_dataset(\"/Users/manaruchi/Desktop/WeatherDataViz/raw_data/AFCNWP_WRF_model_output_00UTC.nc\")\n",
    "\n",
    "# Extract U10 and V10 (10 m winds)\n",
    "u10 = ds[\"U10\"].isel(Time=0)\n",
    "v10 = ds[\"V10\"].isel(Time=0)\n",
    "lat = ds[\"XLAT\"].isel(Time=0)\n",
    "lon = ds[\"XLONG\"].isel(Time=0)\n",
    "\n",
    "# Convert from m/s to knots\n",
    "u10_knots = u10.values * 1.94384\n",
    "v10_knots = v10.values * 1.94384\n",
    "\n",
    "ny, nx = u10.shape\n",
    "\n",
    "# Shared header metadata\n",
    "base_header = {\n",
    "    \"parameterUnit\": \"KT\",\n",
    "    \"parameterCategory\": 2,\n",
    "    \"nx\": nx,\n",
    "    \"ny\": ny,\n",
    "    \"lo1\": float(lon[0, 0]),\n",
    "    \"la1\": float(lat[0, 0]),\n",
    "    \"lo2\": float(lon[-1, -1]),\n",
    "    \"la2\": float(lat[-1, -1]),\n",
    "    \"dx\": float((lon[0, -1] - lon[0, 0]) / (nx - 1)),\n",
    "    \"dy\": float((lat[0, 0] - lat[-1, 0]) / (ny - 1)),\n",
    "    \"refTime\": \"2024-05-01 00:00:00\",\n",
    "    \"forecastTime\": 0\n",
    "}\n",
    "\n",
    "# Create two objects: eastward and northward winds\n",
    "eastward = {\n",
    "    \"header\": {**base_header, \"parameterNumber\": 2, \"parameterNumberName\": \"eastward_wind\"},\n",
    "    \"data\": u10_knots.flatten().tolist()\n",
    "}\n",
    "\n",
    "northward = {\n",
    "    \"header\": {**base_header, \"parameterNumber\": 3, \"parameterNumberName\": \"northward_wind\"},\n",
    "    \"data\": v10_knots.flatten().tolist()\n",
    "}\n",
    "\n",
    "# Combine into one array (expected by Leaflet Velocity)\n",
    "combined = [eastward, northward]\n",
    "\n",
    "# Write to file\n",
    "with open(\"wind_velocity.json\", \"w\") as f:\n",
    "    json.dump(combined, f)\n",
    "\n",
    "print(\"✅ wind_velocity.json created with both eastward and northward wind components.\")\n"
   ]
  },
  {
   "cell_type": "code",
   "execution_count": null,
   "id": "18e58c79-80aa-4c43-a26d-a610c2c13aaa",
   "metadata": {},
   "outputs": [],
   "source": []
  }
 ],
 "metadata": {
  "kernelspec": {
   "display_name": "Python 3 (ipykernel)",
   "language": "python",
   "name": "python3"
  },
  "language_info": {
   "codemirror_mode": {
    "name": "ipython",
    "version": 3
   },
   "file_extension": ".py",
   "mimetype": "text/x-python",
   "name": "python",
   "nbconvert_exporter": "python",
   "pygments_lexer": "ipython3",
   "version": "3.9.21"
  }
 },
 "nbformat": 4,
 "nbformat_minor": 5
}
