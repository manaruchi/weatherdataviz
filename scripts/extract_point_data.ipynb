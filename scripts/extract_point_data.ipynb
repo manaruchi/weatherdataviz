{
 "cells": [
  {
   "cell_type": "code",
   "execution_count": 30,
   "id": "f88db61e-ec06-40ee-b91a-998f0b8d66be",
   "metadata": {},
   "outputs": [],
   "source": [
    "import json\n",
    "from netCDF4 import Dataset, num2date\n",
    "import numpy as np\n",
    "from tqdm import notebook\n",
    "\n",
    "# Inputs\n",
    "nc_path = \"/Users/manaruchi/Desktop/WeatherDataViz/raw_data/AFCNWP_WRF_model_output_00UTC.nc\"\n",
    "#target_lat = 28.6139 \n",
    "#target_lon = 77.2090\n",
    "starting_lon = 45\n",
    "ending_lon = 110\n",
    "starting_lat = -5\n",
    "ending_lat = 40\n",
    "# For this sample project, using interval of 5 degree\n",
    "spacing = 5 # Spatial Interval\n",
    "\n",
    "# Generate list of lat and lon to generate point data for\n",
    "lat_to_process = np.arange(starting_lat, ending_lat + spacing, spacing)\n",
    "lon_to_process = np.arange(starting_lon, ending_lon + spacing, spacing)\n",
    "lat_long_list = []\n",
    "for lat in lat_to_process:\n",
    "    for lon in lon_to_process:\n",
    "        lat_long_list.append([lat, lon])\n",
    "\n",
    "\n",
    "# Open NetCDF\n",
    "nc = Dataset(nc_path)\n",
    "\n",
    "#Set time & vertical level limit\n",
    "tlimit = 72\n",
    "tlev = 32\n",
    "\n",
    "# Extract lat/lon\n",
    "lats = nc.variables['XLAT'][0, :, :]  # [time, y, x] → use time=0\n",
    "lons = nc.variables['XLONG'][0, :, :]\n",
    "\n",
    "def generateJSON(target_lat, target_lon):\n",
    "    # Compute distance to target\n",
    "    dist_sq = (lats - target_lat)**2 + (lons - target_lon)**2\n",
    "    j, i = np.unravel_index(np.argmin(dist_sq), lats.shape)  # (y, x) indices\n",
    "    \n",
    "    # Extract time and variable\n",
    "    times = nc.variables['Times'][:]\n",
    "    \n",
    "    # Get Surface Wind Data\n",
    "    u = nc.variables['U10'][:, j, i]  # Time series at closest grid point\n",
    "    v = nc.variables['V10'][:, j, i]  \n",
    "    speed = np.sqrt(u**2 + v**2)\n",
    "    direction = (np.arctan2(-u, -v) * 180 / np.pi) % 360\n",
    "\n",
    "    # Get Upper Wind Data\n",
    "    upper_wind_speeds = []\n",
    "    upper_wind_dirs = []\n",
    "    for lev in range(tlev):\n",
    "        u = nc.variables['U'][:, lev, j, i]\n",
    "        v = nc.variables['V'][:, lev, j, i]\n",
    "        u_speed =  np.sqrt(u**2 + v**2) * 1.94384\n",
    "        u_direction = (np.arctan2(-u, -v) * 180 / np.pi) % 360\n",
    "        upper_wind_dirs.append(u_direction)\n",
    "        upper_wind_speeds.append(u_speed)\n",
    "        \n",
    "    # Get Temperature Data\n",
    "    t = nc.variables['T2'][:, j, i] - 273.15\n",
    "    \n",
    "    # Get Upper Level Temperature Data\n",
    "    upper_temperatures = []\n",
    "    for lev in range(tlev):\n",
    "        potT = nc.variables['T'][:, lev, j, i]\n",
    "        perP = nc.variables['P'][:, lev, j, i]\n",
    "        baseP = nc.variables['PB'][:, lev, j, i]\n",
    "    \n",
    "        # Compute Pressure in Pa → convert to hPa\n",
    "        pressure = (perP + baseP) / 100.0 \n",
    "    \n",
    "        # Compute potential temperature: theta = T + 300\n",
    "        theta = potT + 300.0 # In K\n",
    "    \n",
    "        # Convert to actual temperature using Poisson's equation\n",
    "        T_actual = theta * (pressure / 1000.0) ** 0.2854  # in K\n",
    "        T_actual = T_actual - 273.15 # In degree C\n",
    "    \n",
    "        upper_temperatures.append(T_actual)\n",
    "\n",
    "    # Get Altitude for each level\n",
    "    altitudes = []\n",
    "    for lev in range(tlev):\n",
    "        perGeopot = nc.variables['PH'][:, lev, j, i]\n",
    "        baseStateGeopot = nc.variables['PHB'][:, lev, j, i]\n",
    "\n",
    "        # Compute total geopotential\n",
    "        ph_total = perGeopot + baseStateGeopot  # shape: (time, nz_stag, ny, nx)\n",
    "        \n",
    "        # Convert to geometric height in meters\n",
    "        z_stag = ph_total / 9.81  # shape: (time, nz_stag, ny, nx)\n",
    "\n",
    "        altitudes.append(z_stag)\n",
    "        \n",
    "    \n",
    "    # Get Rainfall Data\n",
    "    rain = nc.variables['RAINC'][:, j, i] + nc.variables['RAINNC'][:, j, i]\n",
    "\n",
    "    # Get Cloud Fraction Data\n",
    "    cloud_fraction_list = []\n",
    "    for lev in range(tlev):\n",
    "        cldfra = nc.variables['CLDFRA'][:, lev, j, i]\n",
    "        cloud_fraction_list.append(cldfra)\n",
    "    # Convert time to datetime\n",
    "    try:\n",
    "        time_units = nc.variables['XTIME'].units\n",
    "        time_datetimes = num2date(nc.variables['XTIME'][:], units=time_units)\n",
    "    except:\n",
    "        # Fallback if 'XTIME' isn't present\n",
    "        time_datetimes = [\"\".join(t.astype(str)) for t in times]\n",
    "    \n",
    "    # Create JSON\n",
    "    data = []\n",
    "    \n",
    "    \n",
    "    for i in range(tlimit-1):\n",
    "        new_dict = dict()\n",
    "        new_dict['time'] = str(time_datetimes[i])\n",
    "        new_dict['timeIndex'] = i\n",
    "        new_dict[\"wind_direction_surface\"] = round(direction[i])\n",
    "        new_dict[\"wind_speed_surface\"] = float(round(speed[i] * 1.94384,2))\n",
    "        new_dict[\"temperature\"] = float(round(t[i],2))\n",
    "        new_dict[\"rainfall\"] = float(round(rain[i+1]-rain[i]))\n",
    "    \n",
    "        for lev in range(tlev):\n",
    "            new_dict[f\"wind_direction_{lev}\"] = round(upper_wind_dirs[lev][i])\n",
    "            new_dict[f\"wind_speed_{lev}\"] = float(round(upper_wind_speeds[lev][i],2))\n",
    "            new_dict[f\"temperature_{lev}\"] = float(round(upper_temperatures[lev][i],2))\n",
    "            new_dict[f\"cloud_fraction_{lev}\"] = float(round(cloud_fraction_list[lev][i],2))\n",
    "            new_dict[f\"altitude_{lev}\"] = float(round(altitudes[lev][i]))\n",
    "        data.append(new_dict)\n",
    "\n",
    "    # Write to JSON file\n",
    "    with open(f\"point_data_{target_lat}_{target_lon}.json\", \"w\") as f:\n",
    "        json.dump(data, f, indent=2)\n"
   ]
  },
  {
   "cell_type": "code",
   "execution_count": 32,
   "id": "7bc2fcac-719e-4a25-abee-39e74acc02f4",
   "metadata": {},
   "outputs": [
    {
     "data": {
      "application/vnd.jupyter.widget-view+json": {
       "model_id": "e6d466c94ee544aea63c0867c57175fd",
       "version_major": 2,
       "version_minor": 0
      },
      "text/plain": [
       "Generating Point Files...:   0%|          | 0/140 [00:00<?, ?it/s]"
      ]
     },
     "metadata": {},
     "output_type": "display_data"
    }
   ],
   "source": [
    "for x in notebook.tqdm(lat_long_list, desc=\"Generating Point Files...\"):\n",
    "    generateJSON(x[0], x[1])"
   ]
  },
  {
   "cell_type": "code",
   "execution_count": 10,
   "id": "ec9df6f0-5200-43ab-afeb-9ca5522cde08",
   "metadata": {},
   "outputs": [
    {
     "ename": "NameError",
     "evalue": "name 'ph_total' is not defined",
     "output_type": "error",
     "traceback": [
      "\u001b[0;31m---------------------------------------------------------------------------\u001b[0m",
      "\u001b[0;31mNameError\u001b[0m                                 Traceback (most recent call last)",
      "Cell \u001b[0;32mIn[10], line 1\u001b[0m\n\u001b[0;32m----> 1\u001b[0m \u001b[43mph_total\u001b[49m\n",
      "\u001b[0;31mNameError\u001b[0m: name 'ph_total' is not defined"
     ]
    }
   ],
   "source": [
    "ph_total"
   ]
  },
  {
   "cell_type": "code",
   "execution_count": 27,
   "id": "9151cbb4-ebf2-4b65-875b-1b360889f396",
   "metadata": {},
   "outputs": [
    {
     "data": {
      "text/plain": [
       "(124, 32, 198, 255)"
      ]
     },
     "execution_count": 27,
     "metadata": {},
     "output_type": "execute_result"
    }
   ],
   "source": [
    "cldfra.shape"
   ]
  },
  {
   "cell_type": "code",
   "execution_count": 11,
   "id": "0b8ea0f4-4759-4772-879f-1d4b5a5cafe5",
   "metadata": {},
   "outputs": [
    {
     "data": {
      "text/plain": [
       "(124, 33, 198, 255)"
      ]
     },
     "execution_count": 11,
     "metadata": {},
     "output_type": "execute_result"
    }
   ],
   "source": [
    "z_full.shape"
   ]
  },
  {
   "cell_type": "markdown",
   "id": "f2dfdf34-e3cc-40fd-bc43-dfbe512d3a9e",
   "metadata": {},
   "source": [
    "# Testing Zone (Ignore)"
   ]
  },
  {
   "cell_type": "code",
   "execution_count": 1,
   "id": "7503c62d-e8e2-413c-b170-a8529632464b",
   "metadata": {},
   "outputs": [
    {
     "name": "stdout",
     "output_type": "stream",
     "text": [
      "Sample JSON file 'cloud_fraction_sample.json' created successfully.\n"
     ]
    }
   ],
   "source": [
    "import json\n",
    "import random\n",
    "from datetime import datetime, timedelta\n",
    "\n",
    "pressure_levels = [\n",
    "    925.67596, 919.47375, 911.6386, 901.81964, 889.63293, 874.685,\n",
    "    856.61194, 835.12115, 810.0484, 781.4113, 749.4497, 714.624,\n",
    "    677.5836, 639.00775, 599.2603, 558.45807, 516.7484, 474.3227,\n",
    "    431.42194, 388.34344, 345.44986, 303.16223, 261.95807, 222.5446,\n",
    "    187.03839, 156.94997, 131.70135, 110.51484, 92.73604, 77.81701,\n",
    "    65.29808, 54.793236\n",
    "]\n",
    "\n",
    "start_time = datetime(2024, 6, 1, 0, 0)  # starting datetime\n",
    "hours = 24 * 3  # 3 days hourly data\n",
    "\n",
    "data = []\n",
    "\n",
    "for hour in range(hours):\n",
    "    current_time = start_time + timedelta(hours=hour)\n",
    "    iso_time = current_time.isoformat() + \"Z\"\n",
    "    for pressure in pressure_levels:\n",
    "        entry = {\n",
    "            \"time\": iso_time,\n",
    "            \"pressure\": pressure,\n",
    "            \"cloud_fraction\": round(random.uniform(0, 1), 3)\n",
    "        }\n",
    "        data.append(entry)\n",
    "\n",
    "# Save to JSON file\n",
    "with open(\"cloud_fraction_sample.json\", \"w\") as f:\n",
    "    json.dump(data, f, indent=2)\n",
    "\n",
    "print(\"Sample JSON file 'cloud_fraction_sample.json' created successfully.\")"
   ]
  },
  {
   "cell_type": "code",
   "execution_count": 2,
   "id": "3f5038e9-f6de-4f10-9a0f-01b2a2afb2cb",
   "metadata": {},
   "outputs": [
    {
     "ename": "NameError",
     "evalue": "name 'ds' is not defined",
     "output_type": "error",
     "traceback": [
      "\u001b[0;31m---------------------------------------------------------------------------\u001b[0m",
      "\u001b[0;31mNameError\u001b[0m                                 Traceback (most recent call last)",
      "Cell \u001b[0;32mIn[2], line 1\u001b[0m\n\u001b[0;32m----> 1\u001b[0m \u001b[43mds\u001b[49m[\u001b[38;5;124m'\u001b[39m\u001b[38;5;124mPH\u001b[39m\u001b[38;5;124m'\u001b[39m]\n",
      "\u001b[0;31mNameError\u001b[0m: name 'ds' is not defined"
     ]
    }
   ],
   "source": [
    "ds['PH']"
   ]
  },
  {
   "cell_type": "code",
   "execution_count": 16,
   "id": "d77d796e-5cdd-46dc-bfef-9e1a51547eba",
   "metadata": {},
   "outputs": [
    {
     "ename": "NameError",
     "evalue": "name 'j' is not defined",
     "output_type": "error",
     "traceback": [
      "\u001b[0;31m---------------------------------------------------------------------------\u001b[0m",
      "\u001b[0;31mNameError\u001b[0m                                 Traceback (most recent call last)",
      "Cell \u001b[0;32mIn[16], line 1\u001b[0m\n\u001b[0;32m----> 1\u001b[0m cldfra \u001b[38;5;241m=\u001b[39m ncfile\u001b[38;5;241m.\u001b[39mvariables[\u001b[38;5;124m'\u001b[39m\u001b[38;5;124mCLDFRA\u001b[39m\u001b[38;5;124m'\u001b[39m][:, \u001b[43mj\u001b[49m, i]  \u001b[38;5;66;03m# shape: (time, bottom_top, south_north, west_east)\u001b[39;00m\n\u001b[1;32m      2\u001b[0m ph \u001b[38;5;241m=\u001b[39m ncfile\u001b[38;5;241m.\u001b[39mvariables[\u001b[38;5;124m'\u001b[39m\u001b[38;5;124mPH\u001b[39m\u001b[38;5;124m'\u001b[39m][:, j, i]          \u001b[38;5;66;03m# Perturbation geopotential\u001b[39;00m\n\u001b[1;32m      3\u001b[0m phb \u001b[38;5;241m=\u001b[39m ncfile\u001b[38;5;241m.\u001b[39mvariables[\u001b[38;5;124m'\u001b[39m\u001b[38;5;124mPHB\u001b[39m\u001b[38;5;124m'\u001b[39m][:, j, i]\n",
      "\u001b[0;31mNameError\u001b[0m: name 'j' is not defined"
     ]
    }
   ],
   "source": [
    "cldfra = ncfile.variables['CLDFRA'][:, j, i]  # shape: (time, bottom_top, south_north, west_east)\n",
    "ph = ncfile.variables['PH'][:, j, i]          # Perturbation geopotential\n",
    "phb = ncfile.variables['PHB'][:, j, i]    "
   ]
  },
  {
   "cell_type": "code",
   "execution_count": null,
   "id": "efb2ad9b-2b7c-4bc8-9fa5-0b4b08433389",
   "metadata": {},
   "outputs": [],
   "source": []
  }
 ],
 "metadata": {
  "kernelspec": {
   "display_name": "Python 3 (ipykernel)",
   "language": "python",
   "name": "python3"
  },
  "language_info": {
   "codemirror_mode": {
    "name": "ipython",
    "version": 3
   },
   "file_extension": ".py",
   "mimetype": "text/x-python",
   "name": "python",
   "nbconvert_exporter": "python",
   "pygments_lexer": "ipython3",
   "version": "3.9.21"
  }
 },
 "nbformat": 4,
 "nbformat_minor": 5
}
